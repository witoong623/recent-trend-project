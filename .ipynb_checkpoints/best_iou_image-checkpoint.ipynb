{
 "cells": [
  {
   "cell_type": "code",
   "execution_count": 1,
   "id": "atomic-globe",
   "metadata": {},
   "outputs": [],
   "source": [
    "import dataset_utils\n",
    "import os\n",
    "import random\n",
    "import torch\n",
    "import matplotlib.pyplot as plt\n",
    "import numpy as np\n",
    "from config import cfg\n",
    "from datasets import LandCoverDataset\n",
    "from models.deeplab import get_model as get_deeplab_model\n",
    "from PIL import Image\n",
    "from torch.utils.data import DataLoader, Subset\n",
    "from utils import get_validation_augmentation, get_training_augmentation, get_preprocessing, save_history, save_model, reverse_one_hot, colour_code_segmentation, visualize"
   ]
  },
  {
   "cell_type": "code",
   "execution_count": 2,
   "id": "appropriate-immigration",
   "metadata": {},
   "outputs": [],
   "source": [
    "LANDCOVER_ROOT = '/root/deepglobe'\n",
    "cfg.merge_from_file('cfg/deeplab_resnet50_advance_aug.yaml')"
   ]
  },
  {
   "cell_type": "code",
   "execution_count": 3,
   "id": "floppy-design",
   "metadata": {},
   "outputs": [],
   "source": [
    "train_df, val_df = dataset_utils.get_landcover_train_val_df(LANDCOVER_ROOT, random_state=cfg.SEED)\n",
    "dataset_info = dataset_utils.get_landcover_info(LANDCOVER_ROOT, include_unknow=False)\n",
    "class_names = dataset_info['class_names']\n",
    "class_rgb_values = dataset_info['class_rgb_values']\n",
    "select_class_rgb_values = dataset_info['select_class_rgb_values']"
   ]
  },
  {
   "cell_type": "code",
   "execution_count": 4,
   "id": "critical-prisoner",
   "metadata": {},
   "outputs": [],
   "source": [
    "num_classes = len(select_class_rgb_values)\n",
    "_, preprocessing_fn = get_deeplab_model(num_classes, cfg.MODEL.encoder)"
   ]
  },
  {
   "cell_type": "code",
   "execution_count": 5,
   "id": "subject-horizontal",
   "metadata": {},
   "outputs": [],
   "source": [
    "device = torch.device('cuda:0')"
   ]
  },
  {
   "cell_type": "code",
   "execution_count": 6,
   "id": "instructional-baker",
   "metadata": {},
   "outputs": [],
   "source": [
    "valid_dataset = LandCoverDataset(\n",
    "    val_df,\n",
    "    augmentation=get_validation_augmentation(),\n",
    "    preprocessing=get_preprocessing(preprocessing_fn),\n",
    "    class_rgb_values=select_class_rgb_values,\n",
    "    return_path=True\n",
    ")"
   ]
  },
  {
   "cell_type": "code",
   "execution_count": null,
   "id": "sudden-hostel",
   "metadata": {},
   "outputs": [],
   "source": [
    "val_loader = DataLoader(valid_dataset, batch_size=1, shuffle=False, pin_memory=True, num_workers=0)"
   ]
  }
 ],
 "metadata": {
  "kernelspec": {
   "display_name": "Python 3",
   "language": "python",
   "name": "python3"
  },
  "language_info": {
   "codemirror_mode": {
    "name": "ipython",
    "version": 3
   },
   "file_extension": ".py",
   "mimetype": "text/x-python",
   "name": "python",
   "nbconvert_exporter": "python",
   "pygments_lexer": "ipython3",
   "version": "3.8.0"
  }
 },
 "nbformat": 4,
 "nbformat_minor": 5
}
