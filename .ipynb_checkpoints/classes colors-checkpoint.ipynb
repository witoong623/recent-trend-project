{
 "cells": [
  {
   "cell_type": "code",
   "execution_count": 3,
   "id": "offshore-affairs",
   "metadata": {},
   "outputs": [],
   "source": [
    "import numpy as np\n",
    "import matplotlib.pyplot as plt\n",
    "import dataset_utils\n",
    "import os\n",
    "import random\n",
    "import torch\n",
    "import matplotlib.pyplot as plt\n",
    "import numpy as np\n",
    "from config import cfg\n",
    "from datasets import LandCoverDataset\n",
    "from models.deeplab import get_model as get_deeplab_model\n",
    "from PIL import Image\n",
    "from torch.utils.data import DataLoader, Subset\n",
    "from utils import get_validation_augmentation, get_training_augmentation, get_preprocessing, save_history, save_model, reverse_one_hot, colour_code_segmentation, visualize"
   ]
  },
  {
   "cell_type": "code",
   "execution_count": 5,
   "id": "eight-reaction",
   "metadata": {},
   "outputs": [],
   "source": [
    "LANDCOVER_ROOT = '/root/deepglobe'"
   ]
  },
  {
   "cell_type": "code",
   "execution_count": 6,
   "id": "fatty-ozone",
   "metadata": {},
   "outputs": [],
   "source": [
    "train_df, val_df = dataset_utils.get_landcover_train_val_df(LANDCOVER_ROOT, random_state=cfg.SEED)\n",
    "dataset_info = dataset_utils.get_landcover_info(LANDCOVER_ROOT, include_unknow=True)\n",
    "class_names = dataset_info['class_names']\n",
    "class_rgb_values = dataset_info['class_rgb_values']\n",
    "select_class_rgb_values = dataset_info['select_class_rgb_values']"
   ]
  },
  {
   "cell_type": "code",
   "execution_count": 40,
   "id": "partial-maintenance",
   "metadata": {},
   "outputs": [
    {
     "data": {
      "image/png": "[encoded data removed]",
      "text/plain": [
       "<Figure size 1440x720 with 7 Axes>"
      ]
     },
     "metadata": {
      "needs_background": "light"
     },
     "output_type": "display_data"
    }
   ],
   "source": [
    "fig, ax = plt.subplots(1, len(class_names), figsize=(20, 10))\n",
    "\n",
    "for idx, (class_name, rgb_value) in enumerate(zip(class_names, class_rgb_values)):\n",
    "    color_img = np.zeros([100, 100, 3],dtype=np.uint8)\n",
    "    color_img[:, :] = rgb_value\n",
    "    ax[idx].imshow(color_img)\n",
    "    ax[idx].axis('off')\n",
    "    ax[idx].set_title(class_name)\n",
    "\n",
    "plt.savefig('class_colors.jpeg')"
   ]
  },
  {
   "cell_type": "code",
   "execution_count": 16,
   "id": "affiliated-parish",
   "metadata": {},
   "outputs": [
    {
     "data": {
      "text/plain": [
       "[255, 255, 0]"
      ]
     },
     "execution_count": 16,
     "metadata": {},
     "output_type": "execute_result"
    }
   ],
   "source": [
    "class_rgb_values[1]"
   ]
  },
  {
   "cell_type": "code",
   "execution_count": null,
   "id": "threatened-breathing",
   "metadata": {},
   "outputs": [],
   "source": []
  }
 ],
 "metadata": {
  "kernelspec": {
   "display_name": "Python 3",
   "language": "python",
   "name": "python3"
  },
  "language_info": {
   "codemirror_mode": {
    "name": "ipython",
    "version": 3
   },
   "file_extension": ".py",
   "mimetype": "text/x-python",
   "name": "python",
   "nbconvert_exporter": "python",
   "pygments_lexer": "ipython3",
   "version": "3.8.0"
  }
 },
 "nbformat": 4,
 "nbformat_minor": 5
}
