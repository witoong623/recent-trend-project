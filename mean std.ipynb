{
 "cells": [
  {
   "cell_type": "code",
   "execution_count": 1,
   "id": "frank-folks",
   "metadata": {},
   "outputs": [],
   "source": [
    "import math\n",
    "import os\n",
    "import torch\n",
    "import numpy as np\n",
    "from PIL import Image\n",
    "from tqdm import tqdm"
   ]
  },
  {
   "cell_type": "code",
   "execution_count": 2,
   "id": "compatible-forum",
   "metadata": {},
   "outputs": [],
   "source": [
    "dir_path = '/root/deepglobe/train'\n",
    "files_list = os.listdir(dir_path)"
   ]
  },
  {
   "cell_type": "code",
   "execution_count": 3,
   "id": "earned-chester",
   "metadata": {},
   "outputs": [],
   "source": [
    "# finding mean\n",
    "r_chan = 0\n",
    "g_chan = 0\n",
    "b_chan = 0"
   ]
  },
  {
   "cell_type": "code",
   "execution_count": 4,
   "id": "purple-claim",
   "metadata": {},
   "outputs": [
    {
     "name": "stderr",
     "output_type": "stream",
     "text": [
      "100%|██████████| 1606/1606 [03:30<00:00,  7.64it/s]\n"
     ]
    }
   ],
   "source": [
    "total_pixel = 0\n",
    "for filename in (t := tqdm(files_list)):\n",
    "    file_path = os.path.join(dir_path, filename)\n",
    "    raw_img = Image.open(file_path)\n",
    "    image = np.array(raw_img)\n",
    "    \n",
    "    total_pixel += image.shape[0] * image.shape[1]\n",
    "    \n",
    "    r_chan += np.sum(image[:,:,0])\n",
    "    g_chan += np.sum(image[:,:,1])\n",
    "    b_chan += np.sum(image[:,:,2])\n",
    "    \n",
    "    raw_img.close()"
   ]
  },
  {
   "cell_type": "code",
   "execution_count": 5,
   "id": "secondary-private",
   "metadata": {},
   "outputs": [],
   "source": [
    "r_mean = r_chan / total_pixel\n",
    "g_mean = g_chan / total_pixel\n",
    "b_mean = b_chan / total_pixel"
   ]
  },
  {
   "cell_type": "code",
   "execution_count": 6,
   "id": "comfortable-rescue",
   "metadata": {},
   "outputs": [
    {
     "data": {
      "text/plain": [
       "tensor([147.2528, 160.7285,  75.4926])"
      ]
     },
     "execution_count": 6,
     "metadata": {},
     "output_type": "execute_result"
    }
   ],
   "source": [
    "# mean tensor in RGB\n",
    "torch.Tensor([r_mean, g_mean, b_mean])"
   ]
  },
  {
   "cell_type": "code",
   "execution_count": 7,
   "id": "aerial-million",
   "metadata": {},
   "outputs": [],
   "source": [
    "r_dv = 0\n",
    "g_dv = 0\n",
    "b_dv = 0"
   ]
  },
  {
   "cell_type": "code",
   "execution_count": 8,
   "id": "suited-space",
   "metadata": {},
   "outputs": [
    {
     "name": "stderr",
     "output_type": "stream",
     "text": [
      "100%|██████████| 1606/1606 [05:08<00:00,  5.21it/s]\n"
     ]
    }
   ],
   "source": [
    "# finding std\n",
    "\n",
    "for filename in (t := tqdm(files_list)):\n",
    "    file_path = os.path.join(dir_path, filename)\n",
    "    image = np.array(Image.open(file_path))\n",
    "    \n",
    "    \n",
    "    r_dv += np.sum((image[:,:,0] - r_mean) ** 2)\n",
    "    g_dv += np.sum((image[:,:,1] - g_mean) ** 2)\n",
    "    b_dv += np.sum((image[:,:,2] - b_mean) ** 2)"
   ]
  },
  {
   "cell_type": "code",
   "execution_count": 9,
   "id": "retained-poison",
   "metadata": {},
   "outputs": [],
   "source": [
    "r_std = math.sqrt(r_dv / total_pixel)\n",
    "g_std = math.sqrt(g_dv / total_pixel)\n",
    "b_std = math.sqrt(b_dv / total_pixel)"
   ]
  },
  {
   "cell_type": "code",
   "execution_count": 10,
   "id": "accessory-rouge",
   "metadata": {},
   "outputs": [
    {
     "data": {
      "text/plain": [
       "tensor([0.3661, 0.3492, 0.3359])"
      ]
     },
     "execution_count": 10,
     "metadata": {},
     "output_type": "execute_result"
    }
   ],
   "source": [
    "# std tensor in RGB\n",
    "torch.Tensor([r_std, g_std, b_std]) / 255"
   ]
  },
  {
   "cell_type": "code",
   "execution_count": null,
   "id": "determined-stevens",
   "metadata": {},
   "outputs": [],
   "source": []
  }
 ],
 "metadata": {
  "kernelspec": {
   "display_name": "Python 3",
   "language": "python",
   "name": "python3"
  },
  "language_info": {
   "codemirror_mode": {
    "name": "ipython",
    "version": 3
   },
   "file_extension": ".py",
   "mimetype": "text/x-python",
   "name": "python",
   "nbconvert_exporter": "python",
   "pygments_lexer": "ipython3",
   "version": "3.8.0"
  }
 },
 "nbformat": 4,
 "nbformat_minor": 5
}
