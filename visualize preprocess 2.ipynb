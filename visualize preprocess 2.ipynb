{
 "cells": [
  {
   "cell_type": "code",
   "execution_count": 1,
   "id": "wired-intro",
   "metadata": {},
   "outputs": [],
   "source": [
    "import dataset_utils\n",
    "import os\n",
    "import random\n",
    "import torch\n",
    "import matplotlib.pyplot as plt\n",
    "import numpy as np\n",
    "from config import cfg\n",
    "from datasets import LandCoverDataset\n",
    "from models.deeplab import get_model as get_deeplab_model\n",
    "from PIL import Image\n",
    "from torch.utils.data import DataLoader, Subset\n",
    "import albumentations as album\n",
    "from utils import get_validation_augmentation, get_training_augmentation, get_preprocessing, save_history, save_model, reverse_one_hot, colour_code_segmentation, visualize"
   ]
  },
  {
   "cell_type": "code",
   "execution_count": 2,
   "id": "romantic-london",
   "metadata": {},
   "outputs": [],
   "source": [
    "LANDCOVER_ROOT = '/root/deepglobe'\n",
    "cfg.merge_from_file('cfg/deeplab_resnet50_advance_aug.yaml')"
   ]
  },
  {
   "cell_type": "code",
   "execution_count": 3,
   "id": "pursuant-crash",
   "metadata": {},
   "outputs": [],
   "source": [
    "image_path, mask_path = '/root/deepglobe/train/10452_sat.jpg', '/root/deepglobe/train/10452_mask.jpg'"
   ]
  },
  {
   "cell_type": "code",
   "execution_count": 4,
   "id": "searching-print",
   "metadata": {},
   "outputs": [],
   "source": [
    "train_df, val_df = dataset_utils.get_landcover_train_val_df(LANDCOVER_ROOT, random_state=cfg.SEED)\n",
    "dataset_info = dataset_utils.get_landcover_info(LANDCOVER_ROOT, include_unknow=False)\n",
    "class_names = dataset_info['class_names']\n",
    "class_rgb_values = dataset_info['class_rgb_values']\n",
    "select_class_rgb_values = dataset_info['select_class_rgb_values']"
   ]
  },
  {
   "cell_type": "code",
   "execution_count": 6,
   "id": "increased-dating",
   "metadata": {},
   "outputs": [],
   "source": [
    "# augmentations_dict = {\n",
    "#     'HueSaturationValue': album.HueSaturationValue(p=1),\n",
    "#     'RandomBrightnessContrast': album.RandomBrightnessContrast(brightness_limit=0.25, contrast_limit=0.25, always_apply=True),\n",
    "#     'Blur': album.Blur(blur_limit=7, always_apply=True),\n",
    "#     'ToGray': album.ToGray(always_apply=True),\n",
    "#     'IAASharpen': album.IAASharpen(always_apply=True),\n",
    "#     'RGBShift': album.RGBShift(always_apply=True),\n",
    "#     'GaussNoise': album.GaussNoise(always_apply=True),\n",
    "#     'RandomGamma': album.RandomGamma(always_apply=True)\n",
    "# } \n",
    "\n",
    "level1_augs = [album.HueSaturationValue(p=1),\n",
    "               album.Blur(blur_limit=7, always_apply=True),\n",
    "               album.RandomBrightnessContrast(brightness_limit=0.25, contrast_limit=0.25, always_apply=True)]\n",
    "level2_augs = [album.GaussNoise(always_apply=True),\n",
    "               album.IAASharpen(always_apply=True),\n",
    "               album.RGBShift(always_apply=True)]\n",
    "level3_augs = [album.RandomGamma(always_apply=True),\n",
    "               album.ToGray(always_apply=True)]\n",
    "\n",
    "augmentations_dict = {\n",
    "    'level1': level1_augs,\n",
    "    'level2': level1_augs + level2_augs,\n",
    "    'level3': level1_augs + level2_augs + level3_augs,\n",
    "}"
   ]
  },
  {
   "cell_type": "code",
   "execution_count": 7,
   "id": "victorian-vanilla",
   "metadata": {},
   "outputs": [],
   "source": [
    "image_path = '/root/deepglobe/train/10452_sat.jpg'\n",
    "sample_dir = 'augment_functions_sample'"
   ]
  },
  {
   "cell_type": "code",
   "execution_count": 8,
   "id": "insured-russell",
   "metadata": {},
   "outputs": [],
   "source": [
    "image = Image.open(image_path)\n",
    "image_np = np.array(image)"
   ]
  },
  {
   "cell_type": "code",
   "execution_count": 11,
   "id": "perfect-aside",
   "metadata": {},
   "outputs": [],
   "source": [
    "for aug_name, aug_func_list in augmentations_dict.items():\n",
    "    aug_func = album.Compose(aug_func_list)\n",
    "    augmented_sample = aug_func(image=image_np)\n",
    "    augmented_image_np = augmented_sample['image']\n",
    "    Image.fromarray(augmented_image_np).save(os.path.join(sample_dir, f'{aug_name}.jpeg'))"
   ]
  },
  {
   "cell_type": "code",
   "execution_count": null,
   "id": "centered-ranch",
   "metadata": {},
   "outputs": [],
   "source": []
  }
 ],
 "metadata": {
  "kernelspec": {
   "display_name": "Python 3",
   "language": "python",
   "name": "python3"
  },
  "language_info": {
   "codemirror_mode": {
    "name": "ipython",
    "version": 3
   },
   "file_extension": ".py",
   "mimetype": "text/x-python",
   "name": "python",
   "nbconvert_exporter": "python",
   "pygments_lexer": "ipython3",
   "version": "3.8.0"
  }
 },
 "nbformat": 4,
 "nbformat_minor": 5
}
